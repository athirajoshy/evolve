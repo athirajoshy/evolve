{
 "cells": [
  {
   "cell_type": "code",
   "execution_count": 5,
   "id": "6c951124",
   "metadata": {},
   "outputs": [],
   "source": [
    "import cv2\n",
    "import numpy as np\n",
    "import time"
   ]
  },
  {
   "cell_type": "code",
   "execution_count": 6,
   "id": "c575b46d",
   "metadata": {},
   "outputs": [],
   "source": [
    "video=cv2.VideoCapture(0)\n",
    "time.sleep(3)\n",
    "\n",
    "#store the background in a loop\n",
    "for i in range(60):\n",
    "    ret,back=video.read() \n",
    "    back=np.flip(back,axis=1) #it was captured in flipped form..make it straight\n",
    "    \n",
    "    #we use loop bcoz to store background perfectly without noise\n",
    "    \n",
    "while(video.isOpened()):\n",
    "    check,img=video.read()   #if check=false break\n",
    "    if check==False:\n",
    "        break\n",
    "        \n",
    "    img=np.flip(img,axis=1)\n",
    "    hsv=cv2.cvtColor(img,cv2.COLOR_BGR2HSV)  # hue=actual color,brightness=how much white or black is mixed,sat=amt of gray\n",
    "    \n",
    "    #hsv detects better than rgb  \n",
    "    # detect and segment red color\n",
    "    #lower range\n",
    "    lower_red=np.array([0,120,50])\n",
    "    upper_red=np.array([10,255,255])\n",
    "    \n",
    "    #hsv color range (lower)\n",
    "    mask1=cv2.inRange(hsv,lower_red,upper_red)\n",
    "    \n",
    "    #upper range\n",
    "    lower_red=np.array([170,120,70])\n",
    "    upper_red=np.array([180,255,255])\n",
    "    mask2=cv2.inRange(hsv,lower_red,upper_red)\n",
    "    mask1=mask1+mask2\n",
    "    \n",
    "    #dilate the masked image ....dilate or morph the red color image with background\n",
    "    mask1=cv2.morphologyEx(mask1,cv2.MORPH_OPEN,np.ones((3,3),np.uint8)) #opening the masked image\n",
    "    mask1=cv2.morphologyEx(mask1,cv2.MORPH_DILATE,np.ones((3,3),np.uint8)) #dilate\n",
    "    \n",
    "    mask2=cv2.bitwise_not(mask1) #segmment out red color from entire frame\n",
    "    res1=cv2.bitwise_and(img,img,mask=mask2) # red color is replaced with background..we have to add that to frame\n",
    "    res2=cv2.bitwise_and(back,back,mask=mask1) #red is replaced with background\n",
    "    \n",
    "    final=cv2.addWeighted(res1,1,res2,1,0)\n",
    "    cv2.imshow(\"final\",final)\n",
    "    key=cv2.waitKey(1)\n",
    "    if key==ord('q'):\n",
    "        break\n",
    "        \n",
    "video.release()\n",
    "cv2.destroyAllWindows()\n",
    "        "
   ]
  },
  {
   "cell_type": "code",
   "execution_count": null,
   "id": "97c03f73",
   "metadata": {},
   "outputs": [],
   "source": []
  }
 ],
 "metadata": {
  "kernelspec": {
   "display_name": "Python 3",
   "language": "python",
   "name": "python3"
  },
  "language_info": {
   "codemirror_mode": {
    "name": "ipython",
    "version": 3
   },
   "file_extension": ".py",
   "mimetype": "text/x-python",
   "name": "python",
   "nbconvert_exporter": "python",
   "pygments_lexer": "ipython3",
   "version": "3.8.8"
  }
 },
 "nbformat": 4,
 "nbformat_minor": 5
}
